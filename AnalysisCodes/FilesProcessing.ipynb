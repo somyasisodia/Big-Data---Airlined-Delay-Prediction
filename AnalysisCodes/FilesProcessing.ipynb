{
 "cells": [
  {
   "cell_type": "code",
   "execution_count": null,
   "metadata": {
    "collapsed": true
   },
   "outputs": [],
   "source": [
    "from pyspark.ml.feature import OneHotEncoder, StringIndexer\n",
    "from pyspark.mllib.linalg import Vectors\n",
    "from pyspark.ml.feature import VectorAssembler\n",
    "from pyspark.ml.classification import LogisticRegression\n",
    "from pyspark.mllib.classification import LogisticRegressionWithLBFGS, LogisticRegressionModel\n",
    "from pyspark.mllib.regression import LabeledPoint\n",
    "from pyspark.mllib.stat import Statistics\n",
    "from pyspark.sql.types import *\n",
    "from pyspark.sql import Row\n",
    "from pyspark.mllib.linalg import Vectors\n",
    "from pyspark.sql import SQLContext\n",
    "from pyspark.ml.param import Param, Params\n",
    "from pyspark.mllib.regression import LabeledPoint\n",
    "from pyspark.sql.functions import udf\n",
    "from IPython.display import display\n",
    "\n",
    "import sys\n",
    "import numpy as np\n",
    "import pandas as pd\n",
    "import time\n",
    "import datetime\n",
    "import matplotlib.pyplot as plt\n",
    "import os.path"
   ]
  },
  {
   "cell_type": "code",
   "execution_count": null,
   "metadata": {
    "collapsed": true
   },
   "outputs": [],
   "source": [
    "textFile = sc.textFile(\"dataset2016.csv\")"
   ]
  },
  {
   "cell_type": "code",
   "execution_count": null,
   "metadata": {
    "collapsed": true
   },
   "outputs": [],
   "source": [
    "textRDD = file.map(lambda x: x.split(','))\n",
    "header = textRDD.first()\n",
    "finalRDD = textRDD.filter(lambda r: r != header)\n",
    "\n",
    "airline_data = sqlContext.createDataFrame(finalRDD)\n",
    "\n",
    "airlinedata = airline_data.toDF(\"Year\", \"Month\", \"DayOfMonth\", \"DayOfWeek\", \"UniqueCarrier\", \"Origin\", \"Dest\", \"CRSDepTime\", \"DepTime\", \"DepDelay\" ,\"CRSArrTime\", \"ArrTime\", \"Distance\", \"CarrierDelay\", \"WeatherDelay\", \"NASDelay\", \"SecurityDelay\", \"LateAircraftDelay\", \"EMPTY\")"
   ]
  },
  {
   "cell_type": "code",
   "execution_count": null,
   "metadata": {
    "collapsed": true
   },
   "outputs": [],
   "source": [
    "airlinedata = airlinedata.withColumn(\"Year\", airlinedata[\"Year\"].cast(\"int\"))\n",
    "airlinedata = airlinedata.withColumn(\"Month\", airlinedata[\"Month\"].cast(\"int\"))\n",
    "airlinedata = airlinedata.withColumn(\"DayOfMonth\", airlinedata[\"DayOfMonth\"].cast(\"int\"))\n",
    "airlinedata = airlinedata.withColumn(\"DayOfWeek\", airlinedata[\"DayOfWeek\"].cast(\"int\"))\n",
    "airlinedata = airlinedata.withColumn(\"DepDelay\", airlinedata[\"DepDelay\"].cast(\"float\"))\n",
    "airlinedata = airlinedata.withColumn(\"Distance\", airlinedata[\"Distance\"].cast(\"float\"))\n",
    "airlinedata = airlinedata.withColumn(\"CarrierDelay\", airlinedata[\"CarrierDelay\"].cast(\"float\"))\n",
    "airlinedata = airlinedata.withColumn(\"WeatherDelay\", airlinedata[\"WeatherDelay\"].cast(\"float\"))\n",
    "airlinedata = airlinedata.withColumn(\"NASDelay\", airlinedata[\"NASDelay\"].cast(\"float\"))\n",
    "airlinedata = airlinedata.withColumn(\"SecurityDelay\", airlinedata[\"SecurityDelay\"].cast(\"float\"))\n",
    "airlinedata = airlinedata.withColumn(\"LateAircraftDelay\", airlinedata[\"LateAircraftDelay\"].cast(\"float\"))"
   ]
  },
  {
   "cell_type": "code",
   "execution_count": null,
   "metadata": {
    "collapsed": true
   },
   "outputs": [],
   "source": [
    "airlinedata = airlinedata.withColumn('DepDelayed', airlinedata['DepDelay']>15)\n",
    "\n",
    "airlinedata.registerTempTable(\"airlinedata\")"
   ]
  },
  {
   "cell_type": "code",
   "execution_count": null,
   "metadata": {
    "collapsed": true
   },
   "outputs": [],
   "source": [
    "delay_causes = sqlContext.sql(\"SELECT sum(WeatherDelay) Weather,sum(NASDelay) NAS,sum(SecurityDelay) Security,sum(LateAircraftDelay) lateAircraft,sum(CarrierDelay) Carrier\\\n",
    "                              FROM airlinedata \")\n",
    "file_delay_causes = delay_causes.toPandas()\n",
    "file_delay_causes.head()"
   ]
  },
  {
   "cell_type": "code",
   "execution_count": null,
   "metadata": {
    "collapsed": true
   },
   "outputs": [],
   "source": [
    "group_delay = sqlContext.sql(\"SELECT Origin, count(*) conFlight,avg(DepDelay) delay \\\n",
    "                                FROM airlinedata \\\n",
    "                                GROUP BY Origin\")\n",
    "\n",
    "origin = group_delay.toPandas()\n",
    "origin.sort('delay',ascending=0).head()"
   ]
  },
  {
   "cell_type": "code",
   "execution_count": null,
   "metadata": {
    "collapsed": true
   },
   "outputs": [],
   "source": [
    "first_file = sc.file(\"airports.dat\")\n",
    "finalRDD1 = first_file.map(lambda x: x.split(','))\n",
    "first_df = sqlContext.createDataFrame(finalRDD1)\n",
    "df = first_df.toDF(\"SerialNo\", \"Name\", \"City\", \"Country\", \"IATA\", \"ICAO\", \"lat\", \"lng\", \"alt\", \"Tzone\" ,\"DST\", \"Tz\", \"A\", \"B\")\n",
    "df = df.withColumn(\"SerialNo\", df[\"SerialNo\"].cast(\"int\"))\n",
    "df = df.withColumn(\"lat\", df[\"lat\"].cast(\"double\"))\n",
    "df = df.withColumn(\"lng\", df[\"lng\"].cast(\"double\"))\n",
    "df = df.withColumn(\"alt\", df[\"alt\"].cast(\"int\"))\n",
    "df = df.withColumn(\"Tzone\", df[\"Tzone\"].cast(\"int\"))\n",
    "## It shows us that airport has been matched with latitude and longitude\n",
    "df.take(5)"
   ]
  },
  {
   "cell_type": "code",
   "execution_count": null,
   "metadata": {
    "collapsed": true
   },
   "outputs": [],
   "source": [
    "second_file = sc.file(\"/FileStore/tables/5ruz1dx81492859916686/AmericaAirports.csv\")\n",
    "finalRDD2 = second_file.map(lambda x: x.split(','))\n",
    "df_2 = sqlContext.createDataFrame(finalRDD2)\n",
    "df_air = df_2.toDF(\"SerialNo\", \"Name\", \"City\", \"Country\", \"IATA\", \"ICAO\", \"lat\", \"lng\", \"alt\", \"Tzone\" ,\"DST\", \"Tz\", \"A\")\n",
    "df_air = df_air.withColumn(\"SerialNo\", df_air[\"SerialNo\"].cast(\"int\"))\n",
    "df_air = df_air.withColumn(\"lat\", df_air[\"lat\"].cast(\"double\"))\n",
    "df_air = df_air.withColumn(\"lng\", df_air[\"lng\"].cast(\"double\"))\n",
    "df_air = df_air.withColumn(\"alt\", df_air[\"alt\"].cast(\"int\"))\n",
    "df_air = df_air.withColumn(\"Tzone\", df_air[\"Tzone\"].cast(\"int\"))"
   ]
  },
  {
   "cell_type": "code",
   "execution_count": null,
   "metadata": {
    "collapsed": true
   },
   "outputs": [],
   "source": [
    "df_aira = df_air.toPandas()\n",
    "origin['Origin'] = origin['Origin'].apply(lambda s:s.replace('\"', \"\"))\n",
    "\n",
    "df_airports = pd.merge(origin, df_aira, left_on = 'Origin', right_on = 'IATA')\n",
    "df_airports.sort('delay',ascending=0).head()"
   ]
  },
  {
   "cell_type": "code",
   "execution_count": null,
   "metadata": {
    "collapsed": true
   },
   "outputs": [],
   "source": [
    "df_airports.to_csv(sys.stdout)"
   ]
  },
  {
   "cell_type": "code",
   "execution_count": null,
   "metadata": {
    "collapsed": true
   },
   "outputs": [],
   "source": [
    "route_delay_group = sqlContext.sql(\"SELECT Origin, Dest, count(*) traffic,avg(Distance) avgDist,\\\n",
    "                                    avg(DepDelay) avgDelay\\\n",
    "                                FROM airlinedata \\\n",
    "                                GROUP BY Origin,Dest\")\n",
    "route_with_delay = route_delay_group.toPandas()\n",
    "\n",
    "route_with_delay['Origin'] = route_with_delay['Origin'].apply(lambda s:s.replace('\"', \"\"))\n",
    "route_with_delay['Dest'] = route_with_delay['Dest'].apply(lambda s:s.replace('\"', \"\"))\n",
    "\n",
    "df_airport_rout1 = pd.merge(route_with_delay, df_aira, left_on = 'Origin', right_on = 'IATA')\n",
    "\n",
    "df_airport_rout2 = pd.merge(df_airport_rout1, df_aira, left_on = 'Dest', right_on = 'IATA')\n",
    "\n",
    "df_airport_rout = df_airport_rout2[[\"Origin\",\"lat_x\",\"lng_x\",\"Dest\",\"lat_y\",\"lng_y\",\\\n",
    "                                    \"avgDelay\", \"traffic\"]]\n",
    "\n",
    "df_airport_rout.sort('avgDelay',ascending=0).head()\n",
    "\n",
    "df_airport_rout.to_csv(sys.stdout)"
   ]
  },
  {
   "cell_type": "code",
   "execution_count": null,
   "metadata": {
    "collapsed": true
   },
   "outputs": [],
   "source": [
    "Origin_Airport=\"\\\"DFW\\\"\"\n",
    "\n",
    "df_ORG = sqlContext.sql(\"SELECT * from airlinedata WHERE Origin='\"+Origin_Airport+\"'\")\n",
    "\n",
    "df_ORG.registerTempTable(\"df_ORG\")\n",
    "df_ORG.select('DayOfWeek','DayofMonth','DepDelay','Origin','Dest','CRSDepTime').show(2)\n",
    "\n",
    "print \"total flights from this airport: \" + str(df_ORG.count())\n",
    "\n",
    "grp_carr = sqlContext.sql(\"SELECT  UniqueCarrier,DayOfMonth,avg(DepDelay) avgDelay from df_ORG \\\n",
    "                            WHERE DepDelayed=True \\\n",
    "                            GROUP BY UniqueCarrier,DayOfMonth\")\n",
    "s = grp_carr.toPandas()"
   ]
  },
  {
   "cell_type": "code",
   "execution_count": null,
   "metadata": {
    "collapsed": true
   },
   "outputs": [],
   "source": []
  }
 ],
 "metadata": {
  "kernelspec": {
   "display_name": "Apache Toree - PySpark",
   "language": "python",
   "name": "apache_toree_pyspark"
  }
 },
 "nbformat": 4,
 "nbformat_minor": 2
}
